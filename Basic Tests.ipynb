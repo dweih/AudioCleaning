{
 "cells": [
  {
   "cell_type": "code",
   "execution_count": null,
   "metadata": {},
   "outputs": [],
   "source": [
    "import numpy as np\n",
    "import pandas as pd\n",
    "import librosa\n",
    "import librosa.display\n",
    "from IPython.display import Audio, display\n",
    "import cmath\n",
    "import matplotlib.pyplot as plt\n",
    "%matplotlib inline"
   ]
  },
  {
   "cell_type": "code",
   "execution_count": null,
   "metadata": {},
   "outputs": [],
   "source": [
    "%run \"NN Audio Core.py\""
   ]
  },
  {
   "cell_type": "code",
   "execution_count": null,
   "metadata": {},
   "outputs": [],
   "source": [
    "# Round trip test with no NN evaluation to test pipeline\n",
    "# Have to get phase information from the noisy file to match what happens for real\n",
    "\n",
    "file = \"p232_013.wav\"\n",
    "clean_file = \"Assets\\\\DataShareArchive\\\\Test\\\\Clean\\\\\" + file\n",
    "noisy_file = \"Assets\\\\DataShareArchive\\\\Test\\\\Noisy\\\\\" + file\n",
    "wav, rate = librosa.core.load(clean_file)\n",
    "noisy_wav, rate = librosa.core.load(noisy_file)"
   ]
  },
  {
   "cell_type": "code",
   "execution_count": null,
   "metadata": {},
   "outputs": [],
   "source": [
    "ft = get_ft(wav)\n",
    "print(ft.shape)\n",
    "swav = inv_ft(ft)\n",
    "Audio(swav,rate=22050)"
   ]
  },
  {
   "cell_type": "code",
   "execution_count": null,
   "metadata": {},
   "outputs": [],
   "source": [
    "Audio(wav, rate=22050)"
   ]
  },
  {
   "cell_type": "code",
   "execution_count": null,
   "metadata": {
    "scrolled": false
   },
   "outputs": [],
   "source": [
    "print(FMIN, N_FFT)\n",
    "freq = librosa.fft_frequencies(sr=22050, n_fft=N_FFT)\n",
    "print(freq.shape)\n",
    "print(freq[292], freq[3])"
   ]
  },
  {
   "cell_type": "code",
   "execution_count": null,
   "metadata": {},
   "outputs": [],
   "source": [
    "import math\n",
    "\n",
    "# Low cut off ~65hz (C2) - seems like 125hz should be safe but keeping the low end\n",
    "# High cut off ~6500hz - 5000hz sounded OK, but keeping some just in case\n",
    "# These are based on N_FFT 1024\n",
    "LOW_BIN = 3 \n",
    "HIGH_BIN = 300\n",
    "SAMPLE_BINS = HIGH_BIN-LOW_BIN\n",
    "\n",
    "freq = librosa.fft_frequencies(sr=22050, n_fft=N_FFT)\n",
    "LOW_FREQ = freq[LOW_BIN]\n",
    "HIGH_FREQ = freq[HIGH_BIN]\n",
    "SAMPLE_OCTAVES = math.log(HIGH_FREQ/LOW_FREQ,2)\n",
    "BINS_PER_OCTAVE = 80\n",
    "\n",
    "\n",
    "# Number of bins in rescaled pitch representation of the ft\n",
    "# No idea - need to test\n",
    "PITCH_BINS = math.floor(SAMPLE_OCTAVES * BINS_PER_OCTAVE)\n",
    "\n",
    "# S = sample space, which is frequency  P = pitch space, which is rescaled so pitches are constant space appart\n",
    "def S_ix(p_ix):\n",
    "    return SAMPLE_OCTAVES * ((SAMPLE_BINS/SAMPLE_OCTAVES + 1)**(p_ix/PITCH_BINS) -1 )\n",
    "\n",
    "def P_ix(s_ix):\n",
    "    return PITCH_BINS * math.log((1+s_ix/SAMPLE_OCTAVES),2)/math.log((1 + SAMPLE_BINS/SAMPLE_OCTAVES),2)\n",
    "\n",
    "# Super dumb sampler that just takes the closest fit\n",
    "def samples_to_pitch(bins, p_ix):\n",
    "    s_ix = math.floor(S_ix(p_ix))\n",
    "    return bins[s_ix]\n",
    "\n",
    "def pitch_to_samples(pt, s_ix):\n",
    "    p_ix = math.floor(P_ix(s_ix))\n",
    "    return pt[p_ix]\n",
    "\n",
    "# Takes samples and rescales to pitch (log of frequencies so space between same pitch is constant)\n",
    "# Output is samples, then rescaled magnitudes in shape (sample_count, PITCH_BINS)\n",
    "def pitch_scale(ft):\n",
    "    pt = np.empty((ft.shape[0], PITCH_BINS))\n",
    "    for s in range(ft.shape[0]):\n",
    "        for i in range(PITCH_BINS):\n",
    "            pt[s,i] = samples_to_pitch(ft[s,:],i)\n",
    "    return pt\n",
    "\n",
    "def sample_scale(pt):\n",
    "    ft = np.empty((pt.shape[0], SAMPLE_BINS))\n",
    "    for s in range(pt.shape[0]):\n",
    "        for i in range(SAMPLE_BINS):\n",
    "            ft[s,i] = pitch_to_samples(pt[s,:],i)\n",
    "    return ft\n",
    "\n",
    "# Sample output is ft converted to magnitude and .T to get samples then ft\n",
    "# Only returns 'interesting' samples - between LOW_ and HIGH_ bins, so output shape is (sample_count, SAMPLE_BINS)\n",
    "def get_samples(file):\n",
    "    wav, rate = librosa.core.load(file)\n",
    "    samples = abs(get_ft(wav).T) # organized as bins, frames so we need to transpose them to frames, bins\n",
    "    return samples[:,LOW_BIN:HIGH_BIN]\n",
    "\n",
    "def rebuild_fft(output, original_fft):\n",
    "    fft = np.zeros((output.shape[0], FFT_BINS))\n",
    "    fft[:,LOW_BIN:HIGH_BIN] = output\n",
    "    vphase = np.vectorize(cmath.phase)\n",
    "    o_phase = vphase(original_fft)\n",
    "    mag = fft.T\n",
    "    vrect = np.vectorize(cmath.rect)\n",
    "    return vrect(mag, o_phase)"
   ]
  },
  {
   "cell_type": "code",
   "execution_count": null,
   "metadata": {
    "scrolled": false
   },
   "outputs": [],
   "source": [
    "s = list(range(SAMPLE_BINS))\n",
    "p = [P_ix(x) for x in s]\n",
    "print(HIGH_FREQ, LOW_FREQ, SAMPLE_OCTAVES, PITCH_BINS, SAMPLE_BINS)\n",
    "\n",
    "plt.plot(s,p)\n",
    "plt.show()\n",
    "print(p[:2],p[-2:])"
   ]
  },
  {
   "cell_type": "code",
   "execution_count": null,
   "metadata": {
    "scrolled": false
   },
   "outputs": [],
   "source": [
    "p = list(range(PITCH_BINS))\n",
    "s = [S_ix(x) for x in p]\n",
    "print(SAMPLE_BINS)\n",
    "\n",
    "plt.plot(p,s)\n",
    "plt.show()\n",
    "print(s[:2],s[-2:])"
   ]
  },
  {
   "cell_type": "code",
   "execution_count": null,
   "metadata": {
    "scrolled": false
   },
   "outputs": [],
   "source": [
    "for i in range(PITCH_BINS):\n",
    "    print(\"pitch %d maps to sample %.2f\" % (i, S_ix(i)))"
   ]
  },
  {
   "cell_type": "code",
   "execution_count": null,
   "metadata": {
    "scrolled": false
   },
   "outputs": [],
   "source": [
    "samples = get_samples(clean_file)\n",
    "print(samples.shape)\n",
    "pt = pitch_scale(samples)\n",
    "print(pt.shape)\n",
    "s2 = sample_scale(pt)\n",
    "print(s2.shape)\n",
    "wav = rebuild_fft(s2, noisy_ft)"
   ]
  },
  {
   "cell_type": "code",
   "execution_count": null,
   "metadata": {},
   "outputs": [],
   "source": [
    "samples = get_samples(clean_file)\n",
    "\n",
    "print(samples.shape)\n",
    "\n",
    "noisy_ft = get_ft(noisy_wav)\n",
    "\n",
    "pt = pitch_scale(samples)\n",
    "s2 = sample_scale(pt)\n",
    "rt = rebuild_fft(s2, noisy_ft)\n",
    "rwav = inv_ft(rt)\n",
    "\n",
    "print(\"round trip\")\n",
    "librosa.display.specshow(librosa.amplitude_to_db(np.abs(pt).T, ref=np.max), y_axis='linear')\n",
    "\n",
    "Audio(rwav,rate=22050)"
   ]
  },
  {
   "cell_type": "code",
   "execution_count": null,
   "metadata": {},
   "outputs": [],
   "source": [
    "print(\"Clean\")\n",
    "wav, rate = librosa.core.load(clean_file)\n",
    "ft = get_ft(wav)\n",
    "librosa.display.specshow(librosa.amplitude_to_db(np.abs(ft), ref=np.max), y_axis='linear')\n",
    "Audio(wav,rate=22050)"
   ]
  },
  {
   "cell_type": "code",
   "execution_count": null,
   "metadata": {},
   "outputs": [],
   "source": [
    "noisy_ft = get_ft(noisy_wav)\n",
    "noisy_ft.shape\n",
    "\n",
    "r = noisy_ft.real\n",
    "i = noisy_ft.imag\n",
    "samples = np.empty((r.shape[0], r.shape[1],2))\n",
    "samples[:,:,0] = r\n",
    "samples[:,:,1] = i\n",
    "\n",
    "print(samples.shape)\n"
   ]
  },
  {
   "cell_type": "code",
   "execution_count": null,
   "metadata": {},
   "outputs": [],
   "source": [
    "# Compare to clean\n",
    "display_fft(get_ft(wav))\n",
    "Audio(wav,rate=22050)"
   ]
  },
  {
   "cell_type": "code",
   "execution_count": null,
   "metadata": {},
   "outputs": [],
   "source": [
    "# Compare to noisy\n",
    "display_fft(noisy_ft)\n",
    "Audio(noisy_wav,rate=22050)"
   ]
  },
  {
   "cell_type": "code",
   "execution_count": null,
   "metadata": {
    "scrolled": false
   },
   "outputs": [],
   "source": [
    "wav, rate = librosa.core.load(\"Assets\\\\DataShareArchive\\\\Test\\\\clean\\\\p232_011.wav\")\n",
    "\n",
    "#draw(\"p232_010.wav\", \"clean\")\n",
    "\n",
    "c_f = get_ft(wav)\n",
    "\n",
    "def filter(cqt):\n",
    "    cqt[0:BINS_PER_OCTAVE,:] = 0\n",
    "    return cqt\n",
    "\n",
    "c_f = filter(c_f)\n",
    "\n",
    "librosa.display.specshow(librosa.amplitude_to_db(np.abs(c_f), ref=np.max), y_axis='cqt_hz')\n",
    "\n",
    "print(c_f.shape)\n",
    "\n",
    "rewav = inv_ft(c_f)\n",
    "\n",
    "Audio(rewav, rate=rate)\n"
   ]
  },
  {
   "cell_type": "code",
   "execution_count": null,
   "metadata": {},
   "outputs": [],
   "source": [
    "Audio(wav, rate=rate)"
   ]
  },
  {
   "cell_type": "code",
   "execution_count": null,
   "metadata": {},
   "outputs": [],
   "source": [
    "n_f = draw(\"p232_010.wav\", \"noisy\")"
   ]
  },
  {
   "cell_type": "code",
   "execution_count": null,
   "metadata": {
    "scrolled": false
   },
   "outputs": [],
   "source": [
    "# CQT experiments\n",
    "\n",
    "hop_length = 256\n",
    "bins_per_octave = 12 * 8\n",
    "fmin = librosa.note_to_hz('C1')\n",
    "octaves = 8\n",
    "C = librosa.cqt(wav, hop_length=hop_length, fmin=fmin, n_bins=octaves*bins_per_octave, bins_per_octave=bins_per_octave)\n",
    "print(C.shape)\n",
    "\n",
    "C[0:bins_per_octave,:] = 0\n",
    "fade = bins_per_octave//2\n",
    "for i in range(0,fade):\n",
    "    C[bins_per_octave+i,:] = (i/fade) * C[bins_per_octave+i,:]\n",
    "\n",
    "rewav = librosa.icqt(C, hop_length=hop_length, bins_per_octave=bins_per_octave)\n",
    "\n",
    "\n",
    "librosa.display.specshow(librosa.amplitude_to_db(np.abs(C), ref=np.max), y_axis='cqt_note', x_axis='time', hop_length=hop_length, fmin=fmin,  bins_per_octave=bins_per_octave)\n",
    "\n",
    "\n",
    "Audio(rewav, rate=rate)\n"
   ]
  },
  {
   "cell_type": "code",
   "execution_count": null,
   "metadata": {},
   "outputs": [],
   "source": [
    "# polar experiments\n",
    "import cmath\n",
    "\n",
    "n_f_m = abs(n_f)\n",
    "c_f_m = abs(c_f)\n",
    "vphase = np.vectorize(cmath.phase)\n",
    "x = vphase(n_f)\n",
    "print(x)\n",
    "\n",
    "mag_ratio = c_f_m/n_f_m\n",
    "\n",
    "re_f = n_f * mag_ratio\n",
    "\n",
    "rewav = librosa.istft(re_f, hop_length=256)\n",
    "\n",
    "Audio(rewav, rate=rate)\n",
    "\n",
    "# this works for full complex numbers\n",
    "#diff = n_f - c_f\n",
    "#reclean = n_f - diff\n",
    "#real_clean = c_f.real + 1j * c_f.imag\n"
   ]
  },
  {
   "cell_type": "code",
   "execution_count": null,
   "metadata": {},
   "outputs": [],
   "source": [
    "Audio(wav, rate=rate)\n"
   ]
  },
  {
   "cell_type": "code",
   "execution_count": null,
   "metadata": {},
   "outputs": [],
   "source": [
    "librosa.display.specshow(librosa.amplitude_to_db(np.abs(diff), ref=np.max), y_axis='log', x_axis='time')"
   ]
  },
  {
   "cell_type": "code",
   "execution_count": null,
   "metadata": {},
   "outputs": [],
   "source": [
    "round_trip = librosa.istft(real_clean)\n",
    "Audio(round_trip, rate=rate)"
   ]
  },
  {
   "cell_type": "code",
   "execution_count": null,
   "metadata": {},
   "outputs": [],
   "source": [
    "round_trip = librosa.istft(X)\n",
    "Audio(round_trip, rate=rate)"
   ]
  },
  {
   "cell_type": "code",
   "execution_count": null,
   "metadata": {},
   "outputs": [],
   "source": [
    "(3.14/2 + 3.14/2) % 6.28"
   ]
  },
  {
   "cell_type": "code",
   "execution_count": null,
   "metadata": {
    "scrolled": false
   },
   "outputs": [],
   "source": [
    "ft_freq = librosa.fft_frequencies(sr=22050, n_fft=N_FFT)\n",
    "\n",
    "delta = ft_freq[1:] - ft_freq[0:-1]\n",
    "print(delta)"
   ]
  },
  {
   "cell_type": "code",
   "execution_count": null,
   "metadata": {},
   "outputs": [],
   "source": []
  }
 ],
 "metadata": {
  "kernelspec": {
   "display_name": "Python 3",
   "language": "python",
   "name": "python3"
  },
  "language_info": {
   "codemirror_mode": {
    "name": "ipython",
    "version": 3
   },
   "file_extension": ".py",
   "mimetype": "text/x-python",
   "name": "python",
   "nbconvert_exporter": "python",
   "pygments_lexer": "ipython3",
   "version": "3.7.4"
  }
 },
 "nbformat": 4,
 "nbformat_minor": 2
}

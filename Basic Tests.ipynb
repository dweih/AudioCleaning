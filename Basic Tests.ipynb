{
 "cells": [
  {
   "cell_type": "code",
   "execution_count": null,
   "metadata": {},
   "outputs": [],
   "source": [
    "import numpy as np\n",
    "import pandas as pd\n",
    "import librosa\n",
    "import librosa.display\n",
    "from IPython.display import Audio, display\n",
    "import cmath\n",
    "#import matplotlib.pyplot as plt\n",
    "%matplotlib inline"
   ]
  },
  {
   "cell_type": "code",
   "execution_count": null,
   "metadata": {},
   "outputs": [],
   "source": [
    "# cqt values\n",
    "#FFT_BINS = 768 # cqt value, function of items below\n",
    "FFT_BINS = 513 # stft value\n",
    "HOP_LENGTH = 256\n",
    "\n",
    "BINS_PER_OCTAVE = 12 * 8\n",
    "FMIN = librosa.note_to_hz('C1')\n",
    "OCTAVES = 8\n",
    "\n",
    "# stft values\n",
    "N_FFT = 1024 # 512 recommended for speech, music typically 2048\n",
    "\n",
    "# Idea here is that we operate on magnitude, and will just use phase from the original noisy sample\n",
    "\n",
    "# Original FFT is from noisy file, and used to get phase information since we only train on magnitude\n",
    "def rebuild_fft(output, original_fft):\n",
    "    vphase = np.vectorize(cmath.phase)\n",
    "    o_phase = vphase(original_fft)\n",
    "    mag = output.T\n",
    "    # This is a different way of getting the same result\n",
    "    #o_mag = abs(original_fft)\n",
    "    #scale = mag/o_mag\n",
    "    #return scale * original_fft\n",
    "    vrect = np.vectorize(cmath.rect)\n",
    "    #null_phase = np.zeros(o_phase.shape)\n",
    "    return vrect(mag, o_phase)\n",
    "    \n",
    "def get_ft(wav):\n",
    "    #c = librosa.cqt(wav, hop_length=HOP_LENGTH, fmin=FMIN, n_bins=OCTAVES*BINS_PER_OCTAVE, bins_per_octave=BINS_PER_OCTAVE)\n",
    "    c = librosa.stft(wav, hop_length=HOP_LENGTH, n_fft=N_FFT)\n",
    "    return c\n",
    "\n",
    "def inv_ft(ft):\n",
    "    #return librosa.icqt(ft, hop_length=HOP_LENGTH, bins_per_octave=BINS_PER_OCTAVE)\n",
    "    return librosa.istft(ft, hop_length=HOP_LENGTH)\n",
    "    \n",
    "# Sample output is (samples, bins) all converted to magnitude\n",
    "def get_samples(file):\n",
    "    wav, rate = librosa.core.load(file)\n",
    "    samples = abs(get_ft(wav).T) # organized as bins, frames so we need to transpose them to frames, bins\n",
    "    return samples\n",
    "\n",
    "# Only need this for testing at this point?  Could still make it a 'top' type shared function\n",
    "def clip_frames(file):\n",
    "    samples = get_samples(file)\n",
    "    frames = np.empty((samples.shape[0], WINDOW_SIZE, FFT_BINS, 1))\n",
    "    half_win = WINDOW_SIZE//2\n",
    "    padded_samples = np.concatenate([np.zeros((half_win, FFT_BINS)), samples, np.zeros((half_win, FFT_BINS))])\n",
    "    for i in range(0, samples.shape[0]-1):\n",
    "        frames[i,:,:,0] = padded_samples[i:i+WINDOW_SIZE,:]\n",
    "    return frames\n",
    "\n",
    "\n",
    "def display_fft(ft):\n",
    "    librosa.display.specshow(librosa.amplitude_to_db(np.abs(ft), ref=np.max), y_axis='cqt_hz', x_axis='time')\n",
    "\n",
    "def draw(wav):\n",
    "    fft = get_ft(wav)\n",
    "    display_fft(fft)\n",
    "    return fft"
   ]
  },
  {
   "cell_type": "code",
   "execution_count": null,
   "metadata": {},
   "outputs": [],
   "source": [
    "# Round trip test with no NN evaluation to test pipeline\n",
    "# Have to get phase information from the noisy file to match what happens for real\n",
    "\n",
    "file = \"p232_013.wav\"\n",
    "clean_file = \"Assets\\\\DataShareArchive\\\\Test\\\\Clean\\\\\" + file\n",
    "noisy_file = \"Assets\\\\DataShareArchive\\\\Test\\\\Noisy\\\\\" + file\n",
    "wav, rate = librosa.core.load(clean_file)\n",
    "noisy_wav, rate = librosa.core.load(noisy_file)\n",
    "\n",
    "noisy_ft = get_ft(noisy_wav)\n",
    "clean_samples = get_samples(clean_file)\n",
    "\n",
    "rt_ft = rebuild_fft(clean_samples, noisy_ft)\n",
    "\n",
    "rt_wav = inv_ft(rt_ft)\n",
    "print(rt_ft.shape)\n",
    "\n",
    "display_fft(rt_ft)\n",
    "Audio(rt_wav,rate=22050)"
   ]
  },
  {
   "cell_type": "code",
   "execution_count": null,
   "metadata": {},
   "outputs": [],
   "source": [
    "# Compare to clean\n",
    "display_fft(get_ft(wav))\n",
    "Audio(wav,rate=22050)"
   ]
  },
  {
   "cell_type": "code",
   "execution_count": null,
   "metadata": {},
   "outputs": [],
   "source": [
    "# Compare to noisy\n",
    "display_fft(noisy_ft)\n",
    "Audio(noisy_wav,rate=22050)"
   ]
  },
  {
   "cell_type": "code",
   "execution_count": null,
   "metadata": {
    "scrolled": false
   },
   "outputs": [],
   "source": [
    "wav, rate = librosa.core.load(\"Assets\\\\DataShareArchive\\\\Test\\\\clean\\\\p232_011.wav\")\n",
    "\n",
    "#draw(\"p232_010.wav\", \"clean\")\n",
    "\n",
    "c_f = get_ft(wav)\n",
    "\n",
    "def filter(cqt):\n",
    "    cqt[0:BINS_PER_OCTAVE,:] = 0\n",
    "    return cqt\n",
    "\n",
    "c_f = filter(c_f)\n",
    "\n",
    "librosa.display.specshow(librosa.amplitude_to_db(np.abs(c_f), ref=np.max), y_axis='cqt_hz')\n",
    "\n",
    "print(c_f.shape)\n",
    "\n",
    "rewav = inv_ft(c_f)\n",
    "\n",
    "Audio(rewav, rate=rate)\n"
   ]
  },
  {
   "cell_type": "code",
   "execution_count": null,
   "metadata": {},
   "outputs": [],
   "source": [
    "Audio(wav, rate=rate)"
   ]
  },
  {
   "cell_type": "code",
   "execution_count": null,
   "metadata": {},
   "outputs": [],
   "source": [
    "n_f = draw(\"p232_010.wav\", \"noisy\")"
   ]
  },
  {
   "cell_type": "code",
   "execution_count": null,
   "metadata": {
    "scrolled": false
   },
   "outputs": [],
   "source": [
    "# CQT experiments\n",
    "\n",
    "hop_length = 256\n",
    "bins_per_octave = 12 * 8\n",
    "fmin = librosa.note_to_hz('C1')\n",
    "octaves = 8\n",
    "C = librosa.cqt(wav, hop_length=hop_length, fmin=fmin, n_bins=octaves*bins_per_octave, bins_per_octave=bins_per_octave)\n",
    "print(C.shape)\n",
    "\n",
    "C[0:bins_per_octave,:] = 0\n",
    "fade = bins_per_octave//2\n",
    "for i in range(0,fade):\n",
    "    C[bins_per_octave+i,:] = (i/fade) * C[bins_per_octave+i,:]\n",
    "\n",
    "rewav = librosa.icqt(C, hop_length=hop_length, bins_per_octave=bins_per_octave)\n",
    "\n",
    "\n",
    "librosa.display.specshow(librosa.amplitude_to_db(np.abs(C), ref=np.max), y_axis='cqt_note', x_axis='time', hop_length=hop_length, fmin=fmin,  bins_per_octave=bins_per_octave)\n",
    "\n",
    "\n",
    "Audio(rewav, rate=rate)\n"
   ]
  },
  {
   "cell_type": "code",
   "execution_count": null,
   "metadata": {},
   "outputs": [],
   "source": [
    "# polar experiments\n",
    "import cmath\n",
    "\n",
    "n_f_m = abs(n_f)\n",
    "c_f_m = abs(c_f)\n",
    "vphase = np.vectorize(cmath.phase)\n",
    "x = vphase(n_f)\n",
    "print(x)\n",
    "\n",
    "mag_ratio = c_f_m/n_f_m\n",
    "\n",
    "re_f = n_f * mag_ratio\n",
    "\n",
    "rewav = librosa.istft(re_f, hop_length=256)\n",
    "\n",
    "Audio(rewav, rate=rate)\n",
    "\n",
    "# this works for full complex numbers\n",
    "#diff = n_f - c_f\n",
    "#reclean = n_f - diff\n",
    "#real_clean = c_f.real + 1j * c_f.imag\n"
   ]
  },
  {
   "cell_type": "code",
   "execution_count": null,
   "metadata": {},
   "outputs": [],
   "source": [
    "Audio(wav, rate=rate)\n"
   ]
  },
  {
   "cell_type": "code",
   "execution_count": null,
   "metadata": {},
   "outputs": [],
   "source": [
    "librosa.display.specshow(librosa.amplitude_to_db(np.abs(diff), ref=np.max), y_axis='log', x_axis='time')"
   ]
  },
  {
   "cell_type": "code",
   "execution_count": null,
   "metadata": {},
   "outputs": [],
   "source": [
    "round_trip = librosa.istft(real_clean)\n",
    "Audio(round_trip, rate=rate)"
   ]
  },
  {
   "cell_type": "code",
   "execution_count": null,
   "metadata": {},
   "outputs": [],
   "source": [
    "round_trip = librosa.istft(X)\n",
    "Audio(round_trip, rate=rate)"
   ]
  },
  {
   "cell_type": "code",
   "execution_count": null,
   "metadata": {},
   "outputs": [],
   "source": []
  },
  {
   "cell_type": "code",
   "execution_count": null,
   "metadata": {},
   "outputs": [],
   "source": []
  }
 ],
 "metadata": {
  "kernelspec": {
   "display_name": "Python 3",
   "language": "python",
   "name": "python3"
  },
  "language_info": {
   "codemirror_mode": {
    "name": "ipython",
    "version": 3
   },
   "file_extension": ".py",
   "mimetype": "text/x-python",
   "name": "python",
   "nbconvert_exporter": "python",
   "pygments_lexer": "ipython3",
   "version": "3.7.4"
  }
 },
 "nbformat": 4,
 "nbformat_minor": 2
}

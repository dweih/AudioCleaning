{
 "cells": [
  {
   "cell_type": "code",
   "execution_count": 5,
   "metadata": {},
   "outputs": [],
   "source": [
    "import numpy as np\n",
    "#import scipy.stats\n",
    "#import seaborn as sns\n",
    "import pandas as pd\n",
    "import librosa\n",
    "import librosa.display\n",
    "from IPython.display import Audio, display\n",
    "#import scikit_posthocs as sp\n",
    "#import matplotlib.pyplot as plt\n",
    "#from matplotlib import gridspec\n",
    "#from matplotlib.transforms import BlendedGenericTransform\n",
    "#import scikit_posthocs as sp\n",
    "#from urllib.request import urlopen\n",
    "#import warnings\n",
    "#warnings.simplefilter(action='ignore', category=FutureWarning)\n",
    "%matplotlib inline\n",
    "\n",
    "import os\n",
    "\n",
    "import keras\n",
    "import keras.layers as layers\n",
    "import numpy as np"
   ]
  },
  {
   "cell_type": "markdown",
   "metadata": {},
   "source": [
    "TODO\n",
    "Create data from clips\n",
    "Create iterator to load data for all clips\n",
    "\n",
    "Gener"
   ]
  },
  {
   "cell_type": "code",
   "execution_count": 30,
   "metadata": {},
   "outputs": [],
   "source": [
    "# some test data to hack around with\n",
    "wav, rate = librosa.core.load(\"Assets\\\\DataShareArchive\\\\Test\\\\Noisy\\\\p232_010.wav\")\n",
    "fft = librosa.stft(wav)"
   ]
  },
  {
   "cell_type": "code",
   "execution_count": 59,
   "metadata": {},
   "outputs": [],
   "source": [
    "# Creating data from clip wave file\n",
    "\n",
    "WINDOW_SIZE = 10\n",
    "\n",
    "def clip_frames(file):\n",
    "    wav, rate = librosa.core.load(file)\n",
    "    half_win = WINDOW_SIZE//2\n",
    "    fft = librosa.stft(wav)\n",
    "    frames = []\n",
    "    for i in range(half_win, fft.shape[0] - half_win):\n",
    "        frames.append(fft[i:i+WINDOW_SIZE])\n",
    "    return frames\n",
    "\n",
    "def clip_targets(file):\n",
    "    wav, rate = librosa.core.load(file)\n",
    "    half_win = WINDOW_SIZE//2\n",
    "    fft = librosa.stft(wav)\n",
    "    targets = []\n",
    "    for i in range(half_win, fft.shape[0] - half_win):\n",
    "        targets.append(fft[i+half_win:i+half_win+1])\n",
    "    return targets"
   ]
  },
  {
   "cell_type": "code",
   "execution_count": 67,
   "metadata": {},
   "outputs": [],
   "source": [
    "def create_data(root):\n",
    "    clean_dir = root + \"\\\\Clean\\\\\"\n",
    "    noisy_dir = root + \"\\\\Noisy\\\\\"\n",
    "    frames = []\n",
    "    targets = []\n",
    "    for file in os.listdir(clean_dir)[0:10]:\n",
    "        filename = os.fsdecode(file)\n",
    "        frames = frames + clip_frames(noisy_dir + file)\n",
    "        targets = targets + clip_targets(clean_dir + file)\n",
    "    return frames, targets\n"
   ]
  },
  {
   "cell_type": "code",
   "execution_count": 69,
   "metadata": {},
   "outputs": [],
   "source": [
    "#clip_windows(\"Assets\\\\DataShareArchive\\\\Test\\\\Noisy\\\\p232_010.wav\")\n",
    "frames, targets = create_data(\"Assets\\\\DataShareArchive\\\\Test\")"
   ]
  },
  {
   "cell_type": "code",
   "execution_count": 70,
   "metadata": {},
   "outputs": [
    {
     "name": "stdout",
     "output_type": "stream",
     "text": [
      "(-0.04013502-5.551115e-17j)\n",
      "(0.16505659+1.3877788e-17j)\n"
     ]
    }
   ],
   "source": [
    "print(frames[0][5][0])\n",
    "\n",
    "print(targets[0][0][0])"
   ]
  },
  {
   "cell_type": "code",
   "execution_count": 34,
   "metadata": {},
   "outputs": [
    {
     "data": {
      "text/plain": [
       "(1, 120)"
      ]
     },
     "execution_count": 34,
     "metadata": {},
     "output_type": "execute_result"
    }
   ],
   "source": [
    "fft[0:1].shape"
   ]
  },
  {
   "cell_type": "code",
   "execution_count": 2,
   "metadata": {},
   "outputs": [
    {
     "name": "stdout",
     "output_type": "stream",
     "text": [
      "WARNING:tensorflow:From C:\\ProgramData\\Anaconda3\\lib\\site-packages\\keras\\backend\\tensorflow_backend.py:74: The name tf.get_default_graph is deprecated. Please use tf.compat.v1.get_default_graph instead.\n",
      "\n",
      "WARNING:tensorflow:From C:\\ProgramData\\Anaconda3\\lib\\site-packages\\keras\\backend\\tensorflow_backend.py:517: The name tf.placeholder is deprecated. Please use tf.compat.v1.placeholder instead.\n",
      "\n",
      "WARNING:tensorflow:From C:\\ProgramData\\Anaconda3\\lib\\site-packages\\keras\\backend\\tensorflow_backend.py:4138: The name tf.random_uniform is deprecated. Please use tf.random.uniform instead.\n",
      "\n"
     ]
    }
   ],
   "source": [
    "model = keras.Sequential(\n",
    "     [layers.Dense(64, activation='relu', input_shape=[2]),\n",
    "      layers.Dense(16, activation='relu'),\n",
    "     layers.Dense(1, activation='linear')]\n",
    ")"
   ]
  },
  {
   "cell_type": "code",
   "execution_count": 66,
   "metadata": {},
   "outputs": [
    {
     "data": {
      "text/plain": [
       "['p232_001.wav',\n",
       " 'p232_002.wav',\n",
       " 'p232_003.wav',\n",
       " 'p232_005.wav',\n",
       " 'p232_006.wav']"
      ]
     },
     "execution_count": 66,
     "metadata": {},
     "output_type": "execute_result"
    }
   ],
   "source": [
    "os.listdir(\"Assets\\\\DataShareArchive\\\\Test\\\\Noisy\\\\\")[0:5]"
   ]
  },
  {
   "cell_type": "code",
   "execution_count": null,
   "metadata": {},
   "outputs": [],
   "source": []
  }
 ],
 "metadata": {
  "kernelspec": {
   "display_name": "Python 3",
   "language": "python",
   "name": "python3"
  },
  "language_info": {
   "codemirror_mode": {
    "name": "ipython",
    "version": 3
   },
   "file_extension": ".py",
   "mimetype": "text/x-python",
   "name": "python",
   "nbconvert_exporter": "python",
   "pygments_lexer": "ipython3",
   "version": "3.7.4"
  }
 },
 "nbformat": 4,
 "nbformat_minor": 2
}

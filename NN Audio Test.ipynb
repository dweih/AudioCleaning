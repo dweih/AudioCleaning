{
 "cells": [
  {
   "cell_type": "code",
   "execution_count": 4,
   "metadata": {},
   "outputs": [
    {
     "name": "stderr",
     "output_type": "stream",
     "text": [
      "Using TensorFlow backend.\n"
     ]
    }
   ],
   "source": [
    "import numpy as np\n",
    "#import scipy.stats\n",
    "#import seaborn as sns\n",
    "import pandas as pd\n",
    "import librosa\n",
    "import librosa.display\n",
    "from IPython.display import Audio, display\n",
    "#import scikit_posthocs as sp\n",
    "#import matplotlib.pyplot as plt\n",
    "#from matplotlib import gridspec\n",
    "#from matplotlib.transforms import BlendedGenericTransform\n",
    "#import scikit_posthocs as sp\n",
    "#from urllib.request import urlopen\n",
    "#import warnings\n",
    "#warnings.simplefilter(action='ignore', category=FutureWarning)\n",
    "%matplotlib inline\n",
    "\n",
    "import os\n",
    "\n",
    "import keras\n",
    "import keras.layers as layers\n",
    "from keras import backend as K\n",
    "import numpy as np"
   ]
  },
  {
   "cell_type": "markdown",
   "metadata": {},
   "source": [
    "TODO\n",
    "Create data from clips\n",
    "Create iterator to load data for all clips\n",
    "\n",
    "Gener"
   ]
  },
  {
   "cell_type": "code",
   "execution_count": 16,
   "metadata": {},
   "outputs": [],
   "source": [
    "# some test data to hack around with\n",
    "test_file = \"Assets\\\\DataShareArchive\\\\Test\\\\Noisy\\\\p232_010.wav\"\n",
    "wav, rate = librosa.core.load(test_file)\n",
    "fft = librosa.stft(wav)"
   ]
  },
  {
   "cell_type": "code",
   "execution_count": 188,
   "metadata": {},
   "outputs": [],
   "source": [
    "# Constants and settings\n",
    "WINDOW_SIZE = 10\n",
    "FFT_BINS = 1025"
   ]
  },
  {
   "cell_type": "code",
   "execution_count": 236,
   "metadata": {},
   "outputs": [],
   "source": [
    "# Creating data from clip wave file\n",
    "def clip_frames(file):\n",
    "    wav, rate = librosa.core.load(file)\n",
    "    half_win = WINDOW_SIZE//2\n",
    "    fft = librosa.stft(wav) # organized as bins, frames\n",
    "    frames = np.empty(shape=(0,FFT_BINS,WINDOW_SIZE))\n",
    "    for i in range(0, fft.shape[1] - WINDOW_SIZE):\n",
    "        frames = np.append(frames,[fft[:,i:i+WINDOW_SIZE]], axis=0)\n",
    "    return frames\n",
    "\n",
    "\n",
    "def clip_targets(file):\n",
    "    wav, rate = librosa.core.load(file)\n",
    "    half_win = WINDOW_SIZE//2\n",
    "    fft = librosa.stft(wav)\n",
    "    targets = np.empty(shape=(0,FFT_BINS,1))\n",
    "    for i in range(half_win, fft.shape[1] - half_win):\n",
    "        targets = np.append(targets, [fft[:,i+half_win:i+half_win+1]], axis=0)\n",
    "    return targets"
   ]
  },
  {
   "cell_type": "code",
   "execution_count": 238,
   "metadata": {},
   "outputs": [
    {
     "name": "stdout",
     "output_type": "stream",
     "text": [
      "(110, 1025, 10) (110, 1025, 1)\n"
     ]
    }
   ],
   "source": [
    "ft = clip_frames(test_file)\n",
    "tt = clip_targets(test_file)\n",
    "\n",
    "print (ft.shape, tt.shape)"
   ]
  },
  {
   "cell_type": "code",
   "execution_count": 266,
   "metadata": {},
   "outputs": [],
   "source": [
    "# Iterate over clean & noisy folders to create frames and targets\n",
    "def create_data(root):\n",
    "    clean_dir = root + \"\\\\Clean\\\\\"\n",
    "    noisy_dir = root + \"\\\\Noisy\\\\\"\n",
    "    frames = np.empty(shape=(0,FFT_BINS,WINDOW_SIZE))\n",
    "    targets = np.empty(shape=(0,FFT_BINS,1))\n",
    "    for file in os.listdir(clean_dir)[0:2]:\n",
    "        filename = os.fsdecode(file)\n",
    "        frames = np.concatenate((frames,clip_frames(noisy_dir + file)), axis=0)\n",
    "        targets = np.concatenate((targets,clip_targets(clean_dir + file)), axis=0)\n",
    "    return frames, targets\n"
   ]
  },
  {
   "cell_type": "code",
   "execution_count": 267,
   "metadata": {},
   "outputs": [],
   "source": [
    "frames, targets = create_data(\"Assets\\\\DataShareArchive\\\\Test\")"
   ]
  },
  {
   "cell_type": "code",
   "execution_count": 269,
   "metadata": {},
   "outputs": [
    {
     "data": {
      "text/plain": [
       "(172, 1025, 1)"
      ]
     },
     "execution_count": 269,
     "metadata": {},
     "output_type": "execute_result"
    }
   ],
   "source": [
    "targets.shape"
   ]
  },
  {
   "cell_type": "code",
   "execution_count": 84,
   "metadata": {},
   "outputs": [],
   "source": [
    "# Define network\n",
    "\n",
    "model = keras.Sequential(\n",
    "     [layers.Dense(FFT_LEN, activation='relu', input_shape=[2]),\n",
    "      layers.Dense(50, activation='relu'),\n",
    "      layers.Dense(50, activation='relu'),\n",
    "     layers.Dense(FFT_LEN, activation='linear')]\n",
    ")\n",
    "\n",
    "model.compile(optimizer='rmsprop', loss='mse')"
   ]
  },
  {
   "cell_type": "code",
   "execution_count": 80,
   "metadata": {},
   "outputs": [
    {
     "data": {
      "text/plain": [
       "numpy.ndarray"
      ]
     },
     "execution_count": 80,
     "metadata": {},
     "output_type": "execute_result"
    }
   ],
   "source": [
    "type(targets[0])"
   ]
  },
  {
   "cell_type": "code",
   "execution_count": 70,
   "metadata": {},
   "outputs": [
    {
     "name": "stdout",
     "output_type": "stream",
     "text": [
      "(-0.04013502-5.551115e-17j)\n",
      "(0.16505659+1.3877788e-17j)\n"
     ]
    }
   ],
   "source": [
    "print(frames[0][5][0])\n",
    "\n",
    "print(targets[0][0][0])"
   ]
  },
  {
   "cell_type": "code",
   "execution_count": 214,
   "metadata": {},
   "outputs": [
    {
     "data": {
      "text/plain": [
       "(1025, 1)"
      ]
     },
     "execution_count": 214,
     "metadata": {},
     "output_type": "execute_result"
    }
   ],
   "source": [
    "fft.shape\n",
    "fft[:,1:2].shape"
   ]
  },
  {
   "cell_type": "code",
   "execution_count": 2,
   "metadata": {},
   "outputs": [
    {
     "name": "stdout",
     "output_type": "stream",
     "text": [
      "WARNING:tensorflow:From C:\\ProgramData\\Anaconda3\\lib\\site-packages\\keras\\backend\\tensorflow_backend.py:74: The name tf.get_default_graph is deprecated. Please use tf.compat.v1.get_default_graph instead.\n",
      "\n",
      "WARNING:tensorflow:From C:\\ProgramData\\Anaconda3\\lib\\site-packages\\keras\\backend\\tensorflow_backend.py:517: The name tf.placeholder is deprecated. Please use tf.compat.v1.placeholder instead.\n",
      "\n",
      "WARNING:tensorflow:From C:\\ProgramData\\Anaconda3\\lib\\site-packages\\keras\\backend\\tensorflow_backend.py:4138: The name tf.random_uniform is deprecated. Please use tf.random.uniform instead.\n",
      "\n"
     ]
    }
   ],
   "source": []
  },
  {
   "cell_type": "code",
   "execution_count": 66,
   "metadata": {},
   "outputs": [
    {
     "data": {
      "text/plain": [
       "['p232_001.wav',\n",
       " 'p232_002.wav',\n",
       " 'p232_003.wav',\n",
       " 'p232_005.wav',\n",
       " 'p232_006.wav']"
      ]
     },
     "execution_count": 66,
     "metadata": {},
     "output_type": "execute_result"
    }
   ],
   "source": [
    "os.listdir(\"Assets\\\\DataShareArchive\\\\Test\\\\Noisy\\\\\")[0:5]"
   ]
  },
  {
   "cell_type": "code",
   "execution_count": null,
   "metadata": {},
   "outputs": [],
   "source": []
  }
 ],
 "metadata": {
  "kernelspec": {
   "display_name": "Python 3",
   "language": "python",
   "name": "python3"
  },
  "language_info": {
   "codemirror_mode": {
    "name": "ipython",
    "version": 3
   },
   "file_extension": ".py",
   "mimetype": "text/x-python",
   "name": "python",
   "nbconvert_exporter": "python",
   "pygments_lexer": "ipython3",
   "version": "3.7.4"
  }
 },
 "nbformat": 4,
 "nbformat_minor": 2
}
